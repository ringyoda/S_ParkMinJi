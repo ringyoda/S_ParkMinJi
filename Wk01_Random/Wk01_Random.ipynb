{
 "cells": [
  {
   "cell_type": "markdown",
   "metadata": {},
   "source": [
    "# 1. 랜덤(Random) 프로그램"
   ]
  },
  {
   "cell_type": "markdown",
   "metadata": {},
   "source": [
    "## 1-1. 발표자를 랜덤으로 선정하는 프로그램\n",
    "* 팀원 중 발표자를 랜덤으로 선정해주는 프로그램을 작성한다.\n",
    "* 더 많은 random 모듈 속성은 본 사이트( http://docs.scipy.org/doc/numpy/reference/routines.random.html )에서 확인할 수 있다."
   ]
  },
  {
   "cell_type": "code",
   "execution_count": 187,
   "metadata": {
    "collapsed": false
   },
   "outputs": [
    {
     "name": "stdout",
     "output_type": "stream",
     "text": [
      "Presenter: MinJi\n"
     ]
    }
   ],
   "source": [
    "#랜덤(Random)으로 발표자를 선정하는 프로그램\n",
    "#작성자: 박민지\n",
    "\n",
    "import numpy as np\n",
    "\n",
    "#MinJi와 YoungHo 중 랜덤으로 발표자를 선정\n",
    "if np.random.randint(2) == 0:\n",
    "    print 'Presenter: MinJi'\n",
    "else:\n",
    "    print 'Presenter: YoungHo'"
   ]
  },
  {
   "cell_type": "markdown",
   "metadata": {},
   "source": [
    "## 1-2. 랜덤 프로그램 통계검정\n",
    "* 팀원 중 발표자를 랜덤으로 선정해주는 프로그램이 정말로 랜덤한가에 대한 통계검정을 해주는 프로그램을 작성한다.\n",
    "* python t-test에 관한 자료는 본 사이트( http://iaingallagher.tumblr.com/post/50980987285/t-tests-in-python )를 참고하였다."
   ]
  },
  {
   "cell_type": "code",
   "execution_count": 39,
   "metadata": {
    "collapsed": false
   },
   "outputs": [
    {
     "name": "stdout",
     "output_type": "stream",
     "text": [
      "The t-statistic is -0.885 and the p-value is 0.376.\n"
     ]
    }
   ],
   "source": [
    "#랜덤(Random)프로그램 통계검정을 위한 일표본 T 검정 프로그램\n",
    "#작성자: 박민지\n",
    "\n",
    "import numpy as np\n",
    "from scipy import stats\n",
    "\n",
    "#MinJi와 YoungHo 중 랜덤으로 발표자를 n번 뽑고 배열에 저장\n",
    "n = 1000\n",
    "source = np.random.randint(2, size = n)\n",
    "\n",
    "one_sample = stats.ttest_1samp(source, 0.5)\n",
    "print \"The t-statistic is %.3f and the p-value is %.3f.\" % one_sample"
   ]
  },
  {
   "cell_type": "code",
   "execution_count": 224,
   "metadata": {
    "collapsed": false
   },
   "outputs": [
    {
     "name": "stdout",
     "output_type": "stream",
     "text": [
      "If we assume unequal variances than the t-statistic is 1.246 and the p-value is 0.213.\n"
     ]
    }
   ],
   "source": [
    "#랜덤(Random)프로그램 통계검정을 위한 독립 T 검정 프로그램\n",
    "#작성자: 박민지\n",
    "\n",
    "import numpy as np\n",
    "from scipy import stats\n",
    "\n",
    "#MinJi와 YoungHo 중 랜덤으로 발표자를 n번 뽑고 배열에 저장\n",
    "n = 100\n",
    "total = 10000\n",
    "\n",
    "m = 0\n",
    "y = 0\n",
    "m_count = []\n",
    "y_count = []\n",
    "\n",
    "for i in range(total): \n",
    "    source = np.random.randint(2, size = n)\n",
    "    for k in range(n):\n",
    "        if source[k] == 0:\n",
    "            m = m+1\n",
    "        else:\n",
    "            y = y+1\n",
    "    m_count.append(m)\n",
    "    y_count.append(y)\n",
    "    m = 0\n",
    "    y = 0\n",
    "\n",
    "two_sample_diff_var = stats.ttest_ind(m_count, y_count, equal_var=False)\n",
    "print \"If we assume unequal variances than the t-statistic is %.3f and the p-value is %.3f.\" % two_sample_diff_var"
   ]
  }
 ],
 "metadata": {
  "kernelspec": {
   "display_name": "Python 2",
   "language": "python",
   "name": "python2"
  },
  "language_info": {
   "codemirror_mode": {
    "name": "ipython",
    "version": 2
   },
   "file_extension": ".py",
   "mimetype": "text/x-python",
   "name": "python",
   "nbconvert_exporter": "python",
   "pygments_lexer": "ipython2",
   "version": "2.7.11"
  }
 },
 "nbformat": 4,
 "nbformat_minor": 0
}
