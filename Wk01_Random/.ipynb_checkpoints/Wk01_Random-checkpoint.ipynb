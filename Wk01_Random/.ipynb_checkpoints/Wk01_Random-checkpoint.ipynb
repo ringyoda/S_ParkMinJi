{
 "cells": [
  {
   "cell_type": "code",
   "execution_count": 52,
   "metadata": {
    "collapsed": false
   },
   "outputs": [
    {
     "name": "stdout",
     "output_type": "stream",
     "text": [
      "YoungHo\n"
     ]
    }
   ],
   "source": [
    "import numpy as np\n",
    "from scipy import stats\n",
    "\n",
    "#team 구성원 중 랜덤으로 발표자를 선정\n",
    "team = ['MinJi', 'YoungHo']\n",
    "print np.random.choice(team)"
   ]
  },
  {
   "cell_type": "code",
   "execution_count": 54,
   "metadata": {
    "collapsed": false
   },
   "outputs": [
    {
     "name": "stdout",
     "output_type": "stream",
     "text": [
      "The t-statistic is -6.725 and the p-value is 0.000.\n"
     ]
    }
   ],
   "source": [
    "import numpy as np\n",
    "from scipy import stats\n",
    "\n",
    "#team 구성원 중 랜덤으로 발표자를 n번 뽑고 배열에 저장\n",
    "team = ['MinJi', 'YoungHo']\n",
    "n = 50\n",
    "source = np.random.choice(team, size=n)\n",
    "#print source\n",
    "\n",
    "#통계검증을 위해 문자열을 숫자형으로 변환\n",
    "a = []\n",
    "for i in range(n):\n",
    "    if source[i] == 'MinJi':\n",
    "        a.append(0)\n",
    "    else:\n",
    "        a.append(1)\n",
    "        \n",
    "#1-sample t-test 검정 \n",
    "one_sample = stats.ttest_1samp(a, 1)\n",
    "print \"The t-statistic is %.3f and the p-value is %.3f.\" % one_sample"
   ]
  }
 ],
 "metadata": {
  "kernelspec": {
   "display_name": "Python 2",
   "language": "python",
   "name": "python2"
  },
  "language_info": {
   "codemirror_mode": {
    "name": "ipython",
    "version": 2
   },
   "file_extension": ".py",
   "mimetype": "text/x-python",
   "name": "python",
   "nbconvert_exporter": "python",
   "pygments_lexer": "ipython2",
   "version": "2.7.11"
  }
 },
 "nbformat": 4,
 "nbformat_minor": 0
}
