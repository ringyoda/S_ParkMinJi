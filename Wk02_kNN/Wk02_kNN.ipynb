{
 "cells": [
  {
   "cell_type": "markdown",
   "metadata": {},
   "source": [
    "# K-Nearest Neighbour (kNN) algorithm\n",
    "KNN은 supervised learning를 위해 사용할 수 있는 간단한 분류 알고리즘(classification algorithms) 중 하나이다.\n",
    "\n",
    "Reference: http://webnautes.tistory.com/800 / http://stackoverflow.com/questions/32980675/knn-train-in-cv2-with-opencv-3-0"
   ]
  },
  {
   "cell_type": "code",
   "execution_count": 10,
   "metadata": {
    "collapsed": false,
    "scrolled": false
   },
   "outputs": [
    {
     "name": "stdout",
     "output_type": "stream",
     "text": [
      "[ 0.] [ 48.  72.]\n",
      "[ 0.] [ 51.  83.]\n",
      "[ 1.] [ 70.  34.]\n",
      "[ 0.] [  8.  17.]\n",
      "[ 1.] [ 97.  83.]\n",
      "[ 1.] [ 40.  69.]\n",
      "[ 1.] [ 95.  21.]\n",
      "[ 1.] [ 38.   9.]\n",
      "[ 0.] [  2.  95.]\n",
      "[ 1.] [ 42.   1.]\n",
      "[ 1.] [ 79.  23.]\n",
      "[ 1.] [ 73.  59.]\n",
      "[ 0.] [ 71.  61.]\n",
      "[ 1.] [ 28.   9.]\n",
      "[ 1.] [ 64.  72.]\n",
      "[ 1.] [ 62.  59.]\n",
      "[ 1.] [ 32.  38.]\n",
      "[ 1.] [ 10.  22.]\n",
      "[ 1.] [ 26.  92.]\n",
      "[ 0.] [ 19.  24.]\n",
      "[ 0.] [ 38.  17.]\n",
      "[ 0.] [ 13.  95.]\n",
      "[ 1.] [ 18.  42.]\n",
      "[ 1.] [ 51.  50.]\n",
      "[ 0.] [ 46.  22.]\n",
      "results:  [[ 0.]\n",
      " [ 1.]\n",
      " [ 0.]\n",
      " [ 1.]\n",
      " [ 1.]]\n",
      "neighbours:  [[ 1.  0.  0.]\n",
      " [ 1.  1.  1.]\n",
      " [ 0.  1.  0.]\n",
      " [ 1.  1.  1.]\n",
      " [ 1.  1.  0.]]\n",
      "distances:  [[ 193.  261.  514.]\n",
      " [ 106.  250.  613.]\n",
      " [ 221.  445.  637.]\n",
      " [ 577.  725.  773.]\n",
      " [ 445.  490.  612.]]\n"
     ]
    },
    {
     "data": {
      "image/png": "[encoded data removed]",
      "text/plain": [
       "<matplotlib.figure.Figure at 0x7417c18>"
      ]
     },
     "metadata": {},
     "output_type": "display_data"
    }
   ],
   "source": [
    "%matplotlib inline\n",
    "\n",
    "import cv2\n",
    "import numpy as np\n",
    "import matplotlib.pyplot as plt\n",
    "\n",
    "#25개의 훈련 데이터를 생성한다. (x,y)좌표에 데이터가 존재하게 된다. \n",
    "trainData = np.random.randint(0,100,(25,2)).astype(np.float32)\n",
    "\n",
    "#각 훈련 데이터는 0 또는 1이라고 이름 붙여진다.\n",
    "responses = np.random.randint(0,2,(25,1)).astype(np.float32)\n",
    "\n",
    "#라벨이름, (x,y) 좌료 를 출력해본다.\n",
    "for i in range(0,25):  \n",
    "    print responses[i], trainData[i]  \n",
    "\n",
    "#0이라 이름 부여진 데이터를 뽑아서 red클래스로 가져온다. \n",
    "red = trainData[responses.ravel()==0]\n",
    "#1이라 이름 붙여진 데이터를 뽑아서 blue클래스로 가져온다.\n",
    "blue = trainData[responses.ravel()==1]\n",
    "\n",
    "#화면에 빨간색 삼각형과 파란색 사각형을 (x,y)좌표에 출력해준다. \n",
    "plt.scatter(red[:,0],red[:,1],80,'r','^')\n",
    "plt.scatter(blue[:,0],blue[:,1],80,'b','s')\n",
    "\n",
    "#knn알고리즘을 초기화한다.\n",
    "knn = cv2.ml.KNearest_create()\n",
    "#데이터의 좌표와 라벨을 전달하여 모델을 훈련시키다. \n",
    "knn.train(trainData,cv2.ml.ROW_SAMPLE,responses)\n",
    "\n",
    "#새로 추가되는 데이터를 만들어서 화면에 표시한다. \n",
    "newcomer = np.random.randint(0,100,(5,2)).astype(np.float32)\n",
    "plt.scatter(newcomer[:,0],newcomer[:,1],80,'g','o')\n",
    "\n",
    "#k=3으로 해서 최근접 이웃들을 찾아서 새로 추가된 데이터가 어느쪽에 속하는 지 결정한다.\n",
    "ret, results, neighbours, dist = knn.findNearest(newcomer, 3)\n",
    "\n",
    "#분류 결과\n",
    "print \"results: \", results\n",
    "#k개 이웃 정보\n",
    "print \"neighbours: \", neighbours\n",
    "#k개 이웃과의 거리\n",
    "print \"distances: \", dist\n",
    "\n",
    "plt.show()"
   ]
  },
  {
   "cell_type": "code",
   "execution_count": 8,
   "metadata": {
    "collapsed": false
   },
   "outputs": [
    {
     "name": "stdout",
     "output_type": "stream",
     "text": [
      "Overwriting knn.py\n"
     ]
    }
   ],
   "source": [
    "%%writefile knn.py\n",
    "\n",
    "from numpy import *\n",
    "import operator\n",
    "\n",
    "def createDataSet():\n",
    "    group = array([[1.0,1.1],[1.0,1.0],[0,0],[0,0.1]]) # trainingSet\n",
    "    labels = ['A','A','B','B'] # labels\n",
    "    return group, labels"
   ]
  },
  {
   "cell_type": "code",
   "execution_count": 6,
   "metadata": {
    "collapsed": false,
    "scrolled": false
   },
   "outputs": [
    {
     "name": "stdout",
     "output_type": "stream",
     "text": [
      "[[ 1.   1.1]\n",
      " [ 1.   1. ]\n",
      " [ 0.   0. ]\n",
      " [ 0.   0.1]]\n",
      "['A', 'A', 'B', 'B']\n"
     ]
    }
   ],
   "source": [
    "import knn\n",
    "group, labels = knn.createDataSet()\n",
    "print group\n",
    "print labels"
   ]
  },
  {
   "cell_type": "code",
   "execution_count": 93,
   "metadata": {
    "collapsed": false
   },
   "outputs": [
    {
     "name": "stdout",
     "output_type": "stream",
     "text": [
      "Overwriting knn_example.py\n"
     ]
    }
   ],
   "source": [
    "%%writefile knn_example.py\n",
    "\n",
    "from numpy import *\n",
    "\n",
    "def classify0(inX, dataSet, labels, k):\n",
    "    dataSet = array([[1.0,1.1],[1.0,1.0],[0,0],[0,0.1]]) #array\n",
    "    group = ['A','A','B','B']\n",
    "    inX = [0,0] #[]괄호모양 list를 의미, inX = list()와 동일\n",
    "    k = 3\n",
    "\n",
    "    dataSetSize = dataSet.shape[0] # dataSet 행렬의 row 갯수\n",
    "    diffMat = tile(inX, (dataSetSize,1)) - dataSet # dataSet과 inX의 차를 계산\n",
    "    sqDiffMat = diffMat**2 # 제곱 연산\n",
    "    sqDistances = sqDiffMat.sum(axis=1) # 두 데이터의 합을 계산\n",
    "    distances = sqDistances**0.5 # 루트 연산\n",
    "\n",
    "    sortedDistIndicies = distances.argsort() # 오름차순 정렬 ~ array type이므로 해당 함수를 쓸 수 있음\n",
    "    classCount = {} #{}괄호모양으로 data type이 dictionary라는 것을 알 수 있음 classCount = dict()과 동일\n",
    "\n",
    "    for i in range (k):\n",
    "        voteIlabel = labels[sortedDistIndicies[i]]\n",
    "        classCount[voteIlabel] = classCount.get(voteIlabel, 0) + 1 # a = a + 1\n",
    "        #print voteIlabel, classCount[voteIlabel]\n",
    "    \n",
    "    #print classCount\n",
    "\n",
    "    #classCount.iteritems()은 Iterator Pattern과 비슷한 기능\n",
    "    sortedClassCount = sorted(classCount.iteritems(), key = operator.itemgetter(1), reverse=True) # 내림차순 정렬\n",
    "\n",
    "    return sortedClassCount[0][0]"
   ]
  },
  {
   "cell_type": "code",
   "execution_count": 92,
   "metadata": {
    "collapsed": false
   },
   "outputs": [
    {
     "data": {
      "text/plain": [
       "'B'"
      ]
     },
     "execution_count": 92,
     "metadata": {},
     "output_type": "execute_result"
    }
   ],
   "source": [
    "classify0([0,0], group, labels, 3)"
   ]
  }
 ],
 "metadata": {
  "kernelspec": {
   "display_name": "Python 2",
   "language": "python",
   "name": "python2"
  },
  "language_info": {
   "codemirror_mode": {
    "name": "ipython",
    "version": 2
   },
   "file_extension": ".py",
   "mimetype": "text/x-python",
   "name": "python",
   "nbconvert_exporter": "python",
   "pygments_lexer": "ipython2",
   "version": "2.7.11"
  }
 },
 "nbformat": 4,
 "nbformat_minor": 0
}
