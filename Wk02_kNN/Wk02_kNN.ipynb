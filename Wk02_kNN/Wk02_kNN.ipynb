{
 "cells": [
  {
   "cell_type": "markdown",
   "metadata": {},
   "source": [
    "# K-Nearest Neighbour (kNN) algorithm\n",
    "KNN은 supervised learning를 위해 사용할 수 있는 간단한 분류 알고리즘(classification algorithms) 중 하나이다.\n",
    "\n",
    "Reference: http://webnautes.tistory.com/800 / http://stackoverflow.com/questions/32980675/knn-train-in-cv2-with-opencv-3-0"
   ]
  },
  {
   "cell_type": "code",
   "execution_count": 11,
   "metadata": {
    "collapsed": false,
    "scrolled": true
   },
   "outputs": [
    {
     "name": "stdout",
     "output_type": "stream",
     "text": [
      "[ 1.] [  5.  79.]\n",
      "[ 0.] [ 53.  71.]\n",
      "[ 1.] [ 61.  55.]\n",
      "[ 0.] [ 45.  74.]\n",
      "[ 1.] [ 0.  1.]\n",
      "[ 1.] [ 2.  1.]\n",
      "[ 0.] [ 19.  44.]\n",
      "[ 1.] [ 42.  13.]\n",
      "[ 0.] [ 35.  20.]\n",
      "[ 1.] [ 63.  13.]\n",
      "[ 1.] [ 45.  42.]\n",
      "[ 1.] [ 83.  28.]\n",
      "[ 0.] [ 50.  76.]\n",
      "[ 1.] [ 75.  26.]\n",
      "[ 1.] [ 38.  47.]\n",
      "[ 0.] [ 3.  8.]\n",
      "[ 1.] [  7.  79.]\n",
      "[ 0.] [ 81.   3.]\n",
      "[ 0.] [ 14.  91.]\n",
      "[ 1.] [ 15.  89.]\n",
      "[ 0.] [ 77.  88.]\n",
      "[ 0.] [ 53.  57.]\n",
      "[ 1.] [ 73.  84.]\n",
      "[ 1.] [ 75.  10.]\n",
      "[ 0.] [ 14.  85.]\n",
      "results:  [[ 1.]\n",
      " [ 1.]\n",
      " [ 0.]\n",
      " [ 0.]\n",
      " [ 1.]]\n",
      "neighbours:  [[ 1.  1.  1.]\n",
      " [ 0.  1.  1.]\n",
      " [ 1.  0.  0.]\n",
      " [ 1.  0.  0.]\n",
      " [ 1.  0.  1.]]\n",
      "distances:  [[ 136.  260.  425.]\n",
      " [  26.  185.  650.]\n",
      " [ 130.  226.  265.]\n",
      " [  61.   85.  740.]\n",
      " [ 212.  324.  481.]]\n"
     ]
    }
   ],
   "source": [
    "import cv2\n",
    "import numpy as np\n",
    "import matplotlib.pyplot as plt\n",
    "\n",
    "#25개의 훈련 데이터를 생성한다. (x,y)좌표에 데이터가 존재하게 된다. \n",
    "trainData = np.random.randint(0,100,(25,2)).astype(np.float32)\n",
    "\n",
    "#각 훈련 데이터는 0 또는 1이라고 이름 붙여진다.\n",
    "responses = np.random.randint(0,2,(25,1)).astype(np.float32)\n",
    "\n",
    "#라벨이름, (x,y) 좌료 를 출력해본다.\n",
    "for i in range(0,25):  \n",
    "    print responses[i], trainData[i]  \n",
    "\n",
    "#0이라 이름 부여진 데이터를 뽑아서 red클래스로 가져온다. \n",
    "red = trainData[responses.ravel()==0]\n",
    "#1이라 이름 붙여진 데이터를 뽑아서 blue클래스로 가져온다.\n",
    "blue = trainData[responses.ravel()==1]\n",
    "\n",
    "#화면에 빨간색 삼각형과 파란색 사각형을 (x,y)좌표에 출력해준다. \n",
    "plt.scatter(red[:,0],red[:,1],80,'r','^')\n",
    "plt.scatter(blue[:,0],blue[:,1],80,'b','s')\n",
    "\n",
    "#knn알고리즘을 초기화한다.\n",
    "knn = cv2.ml.KNearest_create()\n",
    "#데이터의 좌표와 라벨을 전달하여 모델을 훈련시키다. \n",
    "knn.train(trainData,cv2.ml.ROW_SAMPLE,responses)\n",
    "\n",
    "#새로 추가되는 데이터를 만들어서 화면에 표시한다. \n",
    "newcomer = np.random.randint(0,100,(5,2)).astype(np.float32)\n",
    "plt.scatter(newcomer[:,0],newcomer[:,1],80,'g','o')\n",
    "\n",
    "#k=3으로 해서 최근접 이웃들을 찾아서 새로 추가된 데이터가 어느쪽에 속하는 지 결정한다.\n",
    "ret, results, neighbours, dist = knn.findNearest(newcomer, 3)\n",
    "\n",
    "#분류 결과\n",
    "print \"results: \", results\n",
    "#k개 이웃 정보\n",
    "print \"neighbours: \", neighbours\n",
    "#k개 이웃과의 거리\n",
    "print \"distances: \", dist\n",
    "\n",
    "plt.show()"
   ]
  }
 ],
 "metadata": {
  "kernelspec": {
   "display_name": "Python 2",
   "language": "python",
   "name": "python2"
  },
  "language_info": {
   "codemirror_mode": {
    "name": "ipython",
    "version": 2
   },
   "file_extension": ".py",
   "mimetype": "text/x-python",
   "name": "python",
   "nbconvert_exporter": "python",
   "pygments_lexer": "ipython2",
   "version": "2.7.11"
  }
 },
 "nbformat": 4,
 "nbformat_minor": 0
}
