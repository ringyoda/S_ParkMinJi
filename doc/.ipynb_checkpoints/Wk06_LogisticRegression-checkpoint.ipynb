{
 "cells": [
  {
   "cell_type": "markdown",
   "metadata": {},
   "source": [
    "# 5장 Logistic Regression\n",
    "\n",
    "### 학습 목표\n",
    "* 시그모이드 함수와 로지스틱 회귀 분류기\n",
    "* 처음 등장하는 최적화 알고리즘\n",
    "* 기울기 하강 최적화 알고리즘\n",
    "* 누락된 값이 있는 데이터 처리하기\n",
    "\n",
    "### 로지스틱 회귀 (logistic regression)\n",
    "* 회귀란 데이터 묶음을 분류하기 위해서 **최적선 (best-fit line)을 구하는 과정**을 뜻한다.\n",
    "* 로지스틱 회귀는 분석하고자 하는 대상들이 두 집단 혹은 그 이상의 집단(다변수 데이터)으로 나누어진 경우에 **개별 관측치들이 어느 집단으로 분류될 수 있는가를 분석하고 이를 예측하는 모형을 개발**하는데사용되는 대표적인 통계 알고리즘이다.\n",
    "* 로지스틱 회귀는 분석 목적이나 절차에 있어서는 일반 회귀분석과 유사하나 **종속 변수가 명목척도로 측정된 범주형 질적 변수인 경우에 사용**한다는 점에서 일반회귀분석과 차이가 있다.\n",
    "* 로지스틱 회귀는 판별분석과는 달리 **예측변수에 범주형 변수 (범주집합 - 성별: 남, 여; 거주지: 대전, 서울;)를 투입** 할 수있다.\n",
    "\n",
    "### 로지스틱 회귀의 종류\n",
    "* 흔히 로지스틱 회귀는 종속변수가 이항형 문제(즉, 유효한 범주의 개수가 두개인 경우)를 지칭할 때 사용된다.\n",
    "* **다항 로지스틱 회귀 (multinomial logistic regression):** 두 개 이상의 범주를 가지는 문제를 지칭할 때 사용된다.\n",
    "* **서수 로지스틱 회귀 (ordinal logistic regression):** 복수의 범주이면서 순서가 존재하는 문제를 지칭할 때 사용된다.\n",
    "\n",
    "### 로지스틱 회귀분석 적용 예\n",
    "* 연령에 따른 자동차 소유 유무, 연간 소득 등과 같은 특성 (독립변수)이 개인 신용 여부 (종속변수)에 어떠한 영향을 미치는가?\n",
    "* 유권자의 출생 지역, 성별, 거주지역, 학력 등 (독립변수)이 선호하는 후보 선택 (종속변수)에 어떠한 영향을 미치는가?\n",
    "* 흡연 유무, 주량, 직업, 비만 정도 등의 특성 (독립변수)이 특정한 질병 발생 (종속변수)에 어떠한 영향을 미치는가?\n",
    "* 선택 대상이 되는 상표들에 대한 평가와 응답자의 특성 (독립변수)이 선호 상표 선택 (종속변수)에 어떠한 영향을 미치는가?\n",
    "\n",
    "##### ※ 측정방법에 의한 척도의 구성\n",
    "* **명목척도:** 분류 개념으로 측정을 통하여 각각의 조사단위가 어떤 속성을 지니고 있는가 또는 어떤 범주에 속하는가의 구분만을 할 수 있는 경우이다. 퍼센트, 최빈값 등을 사용한다. 운동선수의 명목척도를 예로들면 선수에게 고유의 숫자를 부여하는 것이다 (3번선수, 10번선수 등).\n",
    "* **서열척도:** 분류 뿐 아니라 순위까지 나타낸다. 어떤 특성을 많이 혹은 적게 지니고 있는가 등 분류된 속성들에 대해 서열을 매길 수 있는 경우이다. 제품의 선호도나 서비스의 만족도, 정치성향 등 분류된 속성들간의 서열은 측정 할 수 있으나 서열간의 차이는 측정 할 수 없는 경우이다. 운동선수를 예로들면 선수의 기량에 따라 순위를 정한다 (1등 금메달, 2등 은메달, 3등 동메달 등).\n",
    "* **등간척도:** 등간척도는 서열척도에 거리의 개념을 더해진 것이다. 속성들간의 서열 뿐 아니라 개별 속성들 간의 거리에 관한 측정도 가능하다. 평균아너 표준편차 등을 사용하고, 운동선수를 예로 들면 심사자가 10점 만점을 기준으로 선수의 기량을 평가한다 (9.9점, 7.3점 등).\n",
    "* **비율척도:** 전체적으로 등간척도의 속성과 절대0이 존재한다. 절대0이란 측정하고자 하는 속성이 전혀 없음을 의미한다. 따라서 비율척도는 속성들간의 간격이 등간격일 뿐 아니라 속성들끼리 몇배나 큰가 혹은 작은가도 측정 가능하다. 평균, 표준편차를 사용한다. 운동선수를 예로 들면 200M 단거리 육상 기록을 측정하는데 13.4초 , 14.2초 등으로 나타낼 수 있다.\n",
    "\n",
    "##### ※ 독립변수와 종속변수\n",
    "* **독립변수(설명변수):** 실험에서 자극을 주는 변수. 어떤 것의 원인이 되는 변수로서 원인변수라고도 한다. 영향을 주는 변수이다.\n",
    "* **종속변수(반응변수):** 자극에 대한 반응이나 결과를 나타내는 변수. 영향을 받는 변수로서 결과변수라고도 한다. 독립변수의 변화에 따라 변한다.\n",
    "\n",
    "### 로지스틱 회귀의 장점과 단점\n",
    "* 장점: 계산 비용이 적고, 구현하기 쉬우며, 결과 해석을 위한 지식 표현이 쉽다.\n",
    "* 단점: **언더피팅 (underfitting) 경향**이 있어, 정확도가 낮게 나올 수도 있다.\n",
    "\n",
    "### 로지스틱 회귀의 일반적인 접근 방법\n",
    "1. 수집: 모든 방법\n",
    "2. 준비: 수치형 값은 거리를 계산하는 데 필요하다. 구조적인 데이터 형태가 가장 좋다.\n",
    "3. 분석: 모든 방법\n",
    "4. 훈련: 훈련하는 데 대부분의 시간을 보내며, 이 단계에서 데이터를 분류하기 위해 최적의 계수를 찾는다.\n",
    "5. 검사: 훈련 단계를 마치고 나면 분류는 빠르고 쉽게 진행된다.\n",
    "6. 사용: 이 응용 프로그램은 약간의 입력 데이터가 있어야 하며, 수치형으로 구성된 값을 출력한다. 그런 다음 응용 프로그램은 입력 데이터에 간단한 회귀 계산을 적용하고 입력 데이터가 속하는 분류 항목을 결정한다. 또한, 응용 프로그램은 계산된 분류 항목에서 몇 가지 동작을 수행한다."
   ]
  },
  {
   "cell_type": "markdown",
   "metadata": {},
   "source": [
    "## Bias-Variance Tradeoff ###\n",
    "데이터가 가지고 있는 불확실성이나 noise 뿐만 아니라 모든 학습 알고리즘은 두 가지 종류의 에러를 가진다.\n",
    "\n",
    "\n",
    "<img src=\"images/BiasVariance.jpg\" style=\"width:450px\">\n",
    "\n",
    "**Error(X) = noise(X) + bias(X) + variance(X)**\n",
    "\n",
    "* **Noise:** 데이터가 가지는 본질적인 한계치이기 때문에 irreducible error라고 불린다 (bias/variance는 모델에 따라 변하기 때문에 reducible error).\n",
    "* **Bias:** 데이터 내에 있는 모든 정보를 고려하지 않음으로 인해, 지속적으로 잘못된 것들을 학습하는 경향을 말한다. underfitting 이라고도 한다.\n",
    "* **Variance:** 데이터 내에 있는 에러나 노이즈까지 잘 잡아내는 highly flexible models 에 데이터를 fitting시킴으로써, 실제 현상과 관계 없는 random한 것들까지 학습하는 알고리즘의 경향을 의미한다. 이는 overfitting과 관계되어 있다.\n",
    "* Bias와 Variance는 이러한 경향을 의미할 뿐 아니라, 실제로 이 정도를 '측정'하기 위해서도 사용된다. **'Bias'는 트레이닝 데이터를 바꿈에 따라서 알고리즘의 평균 정확도가 얼마나 많이 변하는지**를 보여주고, **'Variance'는 특정 입력 데이터에 대해 알고리즘이 얼마나 민감한지**를 나타낸다.\n",
    "\n",
    "### Underfit, Ideal fit, Overfit\n",
    "\n",
    "<img src=\"images/FitModel.jpg\">\n",
    "\n",
    "**선형 모델 (degree=1) 은 under-fit 이다:**\n",
    "* 이 모델은 데이터 내의 모든 정보를 고려하지 못하고 있다 (high bias).\n",
    "* 하지만 새로운 데이터가 들어온다 하더라도 이 모델의 형태는 크게 변하지 않을 것이다 (low variance).\n",
    "    \n",
    "    \n",
    "**고차 다항함수 모델 (degree=20) 은 over-fit이다:**\n",
    "* 이 곡선 모델은 주어진 데이터를 잘 설명하고 있다 (low bias).\n",
    "* 하지만 이 함수는 새로운 데이터가 들어왔을 때 완전히 다른 형태로 변하게 되고, generality를 잃게 될 것이다 (high variance).\n",
    "\n",
    "\n",
    "\n",
    "**이상적인 모델은 데이터의 규칙성을 잘 잡아내어 정확하면서도 다른 데이터가 들어왔을 때도 잘 일반화할 수 있는 모델일 것이다 (degree=3).**\n",
    "\n",
    "하지만, **실제 상황에서는 두 가지를 동시에 만족하는 것은 거의 불가능**하다. 따라서 트레이닝 데이터가 아닌 실제 데이터에서 좋은 성능을 내기 위해 이런 tradeoff는 반드시 생길 수 밖에 없으며 이는 **bias-variance trade-off** 라고 불린다.\n"
   ]
  },
  {
   "cell_type": "markdown",
   "metadata": {},
   "source": [
    "## 5.1 로지스틱 회귀와 시그모이드 함수로 분류하기: 다루기 쉬운 계단 함수\n",
    "\n",
    "* 어떠한 데이터에서 분류 항목이 2개인 경우 함수에 입력 데이터를 넣으면 결과로 0 또는 1이 출력 될 것이다.\n",
    "\n",
    "<img src=\"images/Heaviside.png\" style=\"width:400px\">\n",
    "\n",
    "* 헤비사이드 (Heaviside) 단계 함수 또는 그냥 단계 함수의 경우 간단하지만 0과 1 사이 지점이 너무나 순식간에 분할을 수행해버린다.\n",
    "* 순간적 움직임은 때로 분할을 어렵게 하기 때문에 단계 함수와 유사한 방식으로 동작하지만 부드러운 변화를 가진 시그모이드 함수를 사용한다."
   ]
  },
  {
   "cell_type": "markdown",
   "metadata": {},
   "source": [
    "### 시그모이드 (sigmoid)\n",
    "* 시그모이드 함수(Sigmoid function)는 S와 같은 형태(Sigmoid curve)를 가진 함수를 말한다.\n",
    "* 두개의 수평 점근선 사이에서 단조증가하면서 두 점근선 중간쯤에서 변곡점을 갖는다.\n",
    "\n",
    "$$\\sigma(z) = \\frac{1}{1+e^{-z}}$$\n",
    "\n",
    "$$\\sigma(z) \\leq 0.5 이면 0으로 분류 됨$$\n",
    "$$\\sigma(z) > 0.5 이면 1로 분류 됨$$\n",
    "\n",
    "\n",
    "* 범위 X의 값이 증가하면 시그모이드는 1에 가까워지고, X의 값을 줄이면 시그모이드는 0에 가까워진다.\n",
    "* 즉, 시그모이드 함수는 기울기 매개변수의 값이 증가할수록 계단 함수 (step function) 모양에 가까워진다."
   ]
  },
  {
   "cell_type": "code",
   "execution_count": 1,
   "metadata": {
    "collapsed": false,
    "scrolled": true
   },
   "outputs": [
    {
     "name": "stdout",
     "output_type": "stream",
     "text": [
      "C:\\Users\\MinJi C:\\Users\\MinJi\\Desktop/S_ParkMinJi/src/ C:\\Users\\MinJi\\Desktop/S_ParkMinJi/doc/\n"
     ]
    }
   ],
   "source": [
    "# directory setup\n",
    "import os\n",
    "myhome=os.path.expanduser('~')\n",
    "mywd=os.path.join(myhome,'Desktop/S_ParkMinJi/src/')\n",
    "mytxt=os.path.join(myhome,'Desktop/S_ParkMinJi/doc/')\n",
    "print myhome, mywd, mytxt"
   ]
  },
  {
   "cell_type": "code",
   "execution_count": 2,
   "metadata": {
    "collapsed": false,
    "scrolled": true
   },
   "outputs": [
    {
     "name": "stdout",
     "output_type": "stream",
     "text": [
      "C:\\Users\\MinJi\\Desktop\\S_ParkMinJi\\src\n"
     ]
    }
   ],
   "source": [
    "%cd {mywd}"
   ]
  },
  {
   "cell_type": "code",
   "execution_count": 3,
   "metadata": {
    "collapsed": false
   },
   "outputs": [
    {
     "data": {
      "image/png": "[encoded data removed]",
      "text/plain": [
       "<matplotlib.figure.Figure at 0x6faefd0>"
      ]
     },
     "metadata": {},
     "output_type": "display_data"
    },
    {
     "data": {
      "image/png": "[encoded data removed]",
      "text/plain": [
       "<matplotlib.figure.Figure at 0x70f6390>"
      ]
     },
     "metadata": {},
     "output_type": "display_data"
    },
    {
     "data": {
      "image/png": "[encoded data removed]",
      "text/plain": [
       "<matplotlib.figure.Figure at 0x70f6208>"
      ]
     },
     "metadata": {},
     "output_type": "display_data"
    }
   ],
   "source": [
    "%matplotlib inline\n",
    "from numpy import *\n",
    "import matplotlib.pyplot as plt\n",
    "\n",
    "# sigmaoid를 계산하는 함수\n",
    "def sigmoid(inX):\n",
    "    return 1.0/(1+exp(-inX))\n",
    "\n",
    "def plotSigmoid(inX):\n",
    "    fig = plt.figure() # 그림을 그릴 공간을 만듬\n",
    "    ax = fig.add_subplot(111) # 1X1 공간의 1번 공간에 ax 그래프를 만듬\n",
    "    x = arange(-inX, inX, 0.005) # 0.005 = Spacing between values\n",
    "    y = sigmoid(x)\n",
    "    ax.plot(x, y)\n",
    "    plt.xlabel('X'); plt.ylabel('Sigmoid(X)');\n",
    "    plt.show()\n",
    "    \n",
    "plotSigmoid(5)\n",
    "plotSigmoid(10)\n",
    "plotSigmoid(50)"
   ]
  },
  {
   "cell_type": "markdown",
   "metadata": {},
   "source": [
    "## 5.2 가장 좋은 회귀 계수를 찾기 위해 최적화 사용하기\n",
    "$$\\sigma(z) = \\frac{1}{1+e^{-z}}$$\n",
    "\n",
    "시그모이드 함수의 입력은 $z$이며, 이 $z$는 다음과 같이 주어진다.\n",
    "\n",
    "$$z = w_0x_0+w_1x_1+w_2x_2+\\dots+w_nx_n$$\n",
    "\n",
    "위 식을 벡터로 표현하면 다음과 같이 쓸 수 있다.\n",
    "\n",
    "$$z = w^Tx$$\n",
    "\n",
    "즉, 2개의 숫자 벡터의 각 요소들을 곱한 다음 다시 하나의 수를 구하기 위해 서로 더한다. 벡터 $x$는 입력 데이터이며, 가장 좋은 계수 $w$를 찾고자 한다."
   ]
  },
  {
   "cell_type": "markdown",
   "metadata": {},
   "source": [
    "### 5.2.1 기울기 상승\n",
    "* 기울기 상승은 함수에서 최대 지점을 찾고자 할 때, 이 지점으로 이동하는 가장 좋은 방법이 기울기의 방향에 있다는 생각을 기반으로 한다.\n",
    "* 기울기는 $\\nabla$ 기호로 쓰며, 함수 $f(x,\\,y)$의 기울기는 다음과 같은 방정식으로 표현된다.\n",
    "\n",
    "$$\n",
    "\\nabla\\,f(x,\\,y)\\,=\\,\n",
    "\\begin{pmatrix}\n",
    "\\frac{\\partial f(x,\\,y)}{\\partial x} \\\\\n",
    "\\frac{\\partial f(x,\\,y)}{\\partial y}\n",
    "\\end{pmatrix}\n",
    "$$\n",
    "\n",
    "* 이 기울기는 $\\frac{\\partial f(x,\\,y)}{\\partial x}$ 만큼 $x$ 방향으로, 그리고 $\\frac{\\partial f(x,\\,y)}{\\partial y}$ 만큼 $y$ 방향으로 이동하는 것을 의미한다.\n",
    "\n",
    "<img src=\"images/fig52.jpg\" style=\"width:450px\">\n",
    "\n",
    "* 그림 5.2에 보이는 기울기 상승 알고리즘은 기울기가 제공한 방향으로 한 단계 이동한다.\n",
    "* 기울기 연산자는 항상 가장 크게 증가하는 방향으로 향하게 된다. 기울기의 크기 또는 단계 크기는 매개변수 $\\alpha$에 의해 제공된다.\n",
    "* 기울기 상승 알고리즘은 다음과 같이 벡터로 표현할 수 있다.\n",
    "\n",
    "$$ w:=w+\\alpha\\nabla f(w) $$\n",
    "\n",
    "* 이러한 단계는 멈춤 조건(단계의 반복 횟수를 만족하거나 알고리즘이 확실한 오차 범위 안에 있게 되는 경우)에 도달할 때까지 되풀이된다.\n",
    "\n",
    "### 기울기 하강\n",
    "* 기울기 하강은 더하기가 빼기로 바뀌는 것 말고는 기울기 상승과 동일하다.\n",
    "\n",
    "$$ w:=w-\\alpha\\nabla f(w) $$\n",
    "\n",
    "* 기울기 하강은 함수를 최대화하는 것이 아니라 최소화를 시도하고자 하는 것이다."
   ]
  },
  {
   "cell_type": "markdown",
   "metadata": {},
   "source": [
    "### 5.2.2 훈련: 기울기 상승을 사용하여 가장 좋은 매개변수 찾기\n",
    "\n",
    "<img src=\"images/fig53.jpg\" style=\"width:450px\">\n",
    "\n",
    "* 그림 5.3에는 100개의 데이터가 점으로 표현되어 있다. 각각의 점은 두 가지 수치형 속성 X1과 X2를 가진다. \n",
    "* 데이터에 대한 로지스틱 회귀 모델을 구축하는 데 가장 알맞은 매개변수를 찾기 위해 기울기 상승을 시도한다.\n",
    "* 주어진 데이터 집합에 가장 좋은 가중치를 찾으면 된다."
   ]
  },
  {
   "cell_type": "code",
   "execution_count": 4,
   "metadata": {
    "collapsed": true
   },
   "outputs": [],
   "source": [
    "# 기울기 상승을 위한 의사코드\n",
    "\n",
    "# Start with the weights all set to 1\n",
    "# //모두 1로 설정된 가중치를 가지고 시작\n",
    "# Repeat R number of times:\n",
    "# //R번 반복\n",
    "    # Calculate the gradient of the entire dataset\n",
    "    # //입력 데이터 집합의 기울기를 계산\n",
    "    # Update the weights vector by alpha*gradient\n",
    "    # //알파*기울기로 가중치 벡터를 변경\n",
    "    # Return the weights vector\n",
    "    # //가중치 벡터 반환"
   ]
  },
  {
   "cell_type": "markdown",
   "metadata": {},
   "source": [
    "#### 리스팅 5.1 로지스틱 회귀 기울기 상승 최적화 함수"
   ]
  },
  {
   "cell_type": "code",
   "execution_count": 1,
   "metadata": {
    "collapsed": false
   },
   "outputs": [],
   "source": [
    "from numpy import *\n",
    "\n",
    "\"\"\"\n",
    "data를 불러오는 함수\n",
    "output: dataMat,labelMat\n",
    "\"\"\"\n",
    "def loadDataSet():\n",
    "    dataMat = []; labelMat = []    #list type으로 dataMat과 labelMat 변수를 생성\n",
    "    fr = open('data/testSet.txt')    #데이터의 각 줄에는 X1, X2 값이 있고 세 번째 값은 데이터 집합 분류 항목 표시\n",
    "    for line in fr.readlines():\n",
    "        lineArr = line.strip().split()\n",
    "        #strip는 문자열의 양 끝 공백을 없애는 함수\n",
    "        #split는 문자열을 쪼개는 함수, 인자값이 없으면 ' ' 을 기본으로 자른다.      \n",
    "        dataMat.append([1.0, float(lineArr[0]), float(lineArr[1])])\n",
    "        #dataMat에 3열짜리 데이터를 추가한다\n",
    "        #X0에 1.0을 넣은 이유는 Regression 후 절편값을 계산하기 위함\n",
    "        labelMat.append(int(lineArr[2]))\n",
    "    return dataMat,labelMat\n",
    "\n",
    "\"\"\"\n",
    "sigmoid 함수\n",
    "input: inX\n",
    "output: sigma(z)\n",
    "\"\"\"\n",
    "def sigmoid(inX):\n",
    "    return 1.0/(1+exp(-inX))\n",
    "\n",
    "\"\"\"\n",
    "상승 Gradient를 계산하는 함수\n",
    "input: dataMatIn, classLabels\n",
    "output: weights\n",
    "\"\"\"\n",
    "def gradAscent(dataMatIn, classLabels):\n",
    "    dataMatrix = mat(dataMatIn)    #list 타입을 numpy의 Matrix타입으로 바꿔줌\n",
    "    # print \"dataMatIn type:\", type(dataMatIn)\n",
    "    # print \"dataMatrix type:\", type(dataMatrix)\n",
    "    labelMat = mat(classLabels).transpose()    #convert to NumPy matrix\n",
    "    m,n = shape(dataMatrix) # 행과 열을 가져온다.\n",
    "    # print \"The number of rows :\", m\n",
    "    # print \"The number of columns :\", n\n",
    "    # print dataMatrix.transpose()\n",
    "    alpha = 0.001    #alpah: 목적을 향하도록 하기 위한 단계의 크기\n",
    "    maxCycles = 500    #maxCycles: 매개변수를 구하기 위해서 실행되는 반복횟수\n",
    "    weights = ones((n,1))\n",
    "    #ones: Return a new array of given shape and type, filled with ones. \n",
    "    #Shape of the new array: [행의 갯수: Input의 열의 갯수, 열의 갯수: 1] 만큼 1로 초기화\n",
    "    for k in range(maxCycles):    #heavy on matrix operations\n",
    "        #행렬 연산을 하게 됨 - h는 하나의 수가 아니라 우리가 가지고 있는 원소의 수 만큼 column을 가지고 있음 \n",
    "        h = sigmoid(dataMatrix*weights)    #각 요소에 weight 값을 곱햇서 sigmoid 함수를 호출한다.\n",
    "#         if k==0:\n",
    "#            print h\n",
    "#            print type(h)\n",
    "        error = (labelMat - h)    #sigmoid를 이용해서 그룹을 나눈다.\n",
    "        weights = weights + alpha * dataMatrix.transpose()* error    #각 요소의 weight 값을 조절해준다.\n",
    "    return weights\n",
    "\n",
    "# dataArr, labelMat = loadDataSet()\n",
    "# gradAscent(dataArr, labelMat)"
   ]
  },
  {
   "cell_type": "code",
   "execution_count": 6,
   "metadata": {
    "collapsed": false
   },
   "outputs": [
    {
     "data": {
      "text/plain": [
       "matrix([[ 4.12414349],\n",
       "        [ 0.48007329],\n",
       "        [-0.6168482 ]])"
      ]
     },
     "execution_count": 6,
     "metadata": {},
     "output_type": "execute_result"
    }
   ],
   "source": [
    "import logRegres\n",
    "dataArr, labelMat = logRegres.loadDataSet()\n",
    "logRegres.gradAscent(dataArr, labelMat)"
   ]
  },
  {
   "cell_type": "markdown",
   "metadata": {},
   "source": [
    "### 5.2.3 분석: 의사결정 경계선 플롯하기\n",
    "하나의 선을 만드는 데 사용된 가중치의 집합을 해결하고, 분류 항목이 서로 다른 데이터를 분리한다."
   ]
  },
  {
   "cell_type": "markdown",
   "metadata": {},
   "source": [
    "#### 리스팅 5.2 로지스틱 회귀 최적선과 데이터 집합 플롯하기"
   ]
  },
  {
   "cell_type": "code",
   "execution_count": 7,
   "metadata": {
    "collapsed": false
   },
   "outputs": [],
   "source": [
    "\"\"\"\n",
    "그래프를 그려주는 함수\n",
    "input:  weight (numpy의 Array 타입)\n",
    "\"\"\"\n",
    "def plotBestFit(weights):\n",
    "    # print \"Weights type :\", type(weights)\n",
    "    # import matplotlib.pyplot as plt    #그래프를 그릴 모듈을 import\n",
    "    dataMat,labelMat=loadDataSet()    #표현할 data를 불러 옴\n",
    "    dataArr = array(dataMat)    #dataMat은 list 타입이므로 numpy의 Array 타입으로 변경\n",
    "    n = shape(dataArr)[0]    #dataArr의 형태를 나타내는 첫번째 요소(열의 갯수)를 가져옴\n",
    "    xcord1 = []; ycord1 = []    #첫 번째 그룹을 표현할 list를 생성\n",
    "    xcord2 = []; ycord2 = []    #두 번째 그룹을 표현할 list를 생성\n",
    "    for i in range(n):    #전체 열 만큼 loop를 실행\n",
    "        if int(labelMat[i])== 1:    #1번 그룹이면\n",
    "            xcord1.append(dataArr[i,1]); ycord1.append(dataArr[i,2])\n",
    "        else:    #1번 그룹이 아니면\n",
    "            xcord2.append(dataArr[i,1]); ycord2.append(dataArr[i,2])\n",
    "    fig = plt.figure()    #그림을 그릴 공간을 만듬\n",
    "    ax = fig.add_subplot(111)    #1X1 공간의 1번 공간에 ax 그래프를 만듬\n",
    "    \n",
    "    ax.scatter(xcord1, ycord1, s=30, c='red', marker='s')\n",
    "    ax.scatter(xcord2, ycord2, s=30, c='green')\n",
    "    x = arange(-3.0, 3.0, 0.1)\n",
    "    y = (-weights[0]-weights[1]*x)/weights[2]    #최적선 - 시그모이드 함수를 0으로 설정하였음\n",
    "    ax.plot(x, y)\n",
    "    plt.xlabel('X1'); plt.ylabel('X2');\n",
    "    plt.show()\n",
    "\n",
    "# weights = gradAscent(dataArr, labelMat)\n",
    "# plotBestFit(weights.getA())"
   ]
  },
  {
   "cell_type": "code",
   "execution_count": 8,
   "metadata": {
    "collapsed": false,
    "scrolled": true
   },
   "outputs": [
    {
     "name": "stdout",
     "output_type": "stream",
     "text": [
      "기울기 상승을 500회 반복한 로지스틱 회귀 최적선\n"
     ]
    },
    {
     "data": {
      "image/png": "[encoded data removed]",
      "text/plain": [
       "<matplotlib.figure.Figure at 0x3eccba8>"
      ]
     },
     "metadata": {},
     "output_type": "display_data"
    }
   ],
   "source": [
    "%matplotlib inline\n",
    "reload(logRegres)\n",
    "weights = logRegres.gradAscent(dataArr, labelMat)\n",
    "print('기울기 상승을 500회 반복한 로지스틱 회귀 최적선')\n",
    "logRegres.plotBestFit(weights.getA())    #getA(): Return self as an ndarray object."
   ]
  },
  {
   "cell_type": "markdown",
   "metadata": {},
   "source": [
    "### 5.2.4 훈련: 확률적인 기울기 상승\n",
    "* 앞서 알아본 최적화 알고리즘의 기울기 상승은 갱신된 모든 데이터 집합을 사용한다. 이는 불필요한 계산을 너무 많이 하게 된다.\n",
    "* 불필요한 계산에 대한 대안은 한 번에 단 하나의 사례를 사용하여 가중치를 갱신하는 것이다. 이러한 방법을 **확률 기울기 상승**이라고 한다. \n",
    "* 확률 기울기 상승은 **온라인 학습 알고리즘** 중 하나이다. 데이터를 한꺼번에 처리하지 않고, 새로운 데이터가 들어올 때마다 갱신하기 때문이다.\n",
    "* 데이터를 한꺼번에 처리하는 방법은 **일괄처리(batch processing)**라고 한다."
   ]
  },
  {
   "cell_type": "code",
   "execution_count": 9,
   "metadata": {
    "collapsed": true
   },
   "outputs": [],
   "source": [
    "# 확률 기울기 상승을 위한 의사결정 코드\n",
    "\n",
    "# Start with the weights all set to 1\n",
    "# //모두 1로 설정된 가중치를 가지고 시작\n",
    "# For each piece of data in the dataset:\n",
    "# //데이터 집합 내 각각의 데이터를 반복\n",
    "    # Calculate the gradient of one piece of data\n",
    "    # //데이터 중 하나의 기울기를 계산\n",
    "    # Update the weights vector by alpha*gradient\n",
    "    # //알파*기울기로 가중치 벡터를 변경\n",
    "    # Return the weights vector\n",
    "    # //가중치 벡터 반환"
   ]
  },
  {
   "cell_type": "markdown",
   "metadata": {},
   "source": [
    "#### 리스팅 5.3 확률 기울기 상승"
   ]
  },
  {
   "cell_type": "code",
   "execution_count": 10,
   "metadata": {
    "collapsed": false
   },
   "outputs": [],
   "source": [
    "\"\"\"\n",
    "상승 Gradiant를 계산하는 함수\n",
    "input: dataMatrix, classLabels\n",
    "output: weights\n",
    "\"\"\"\n",
    "def stocGradAscent0(dataMatrix, classLabels):\n",
    "    m,n = shape(dataMatrix)\n",
    "    alpha = 0.01\n",
    "    weights = ones(n)   #initialize to all ones\n",
    "    for i in range(m):\n",
    "        h = sigmoid(sum(dataMatrix[i]*weights))\n",
    "        error = classLabels[i] - h\n",
    "        #변수 h와 error가 더 이상 벡터가 아니라 단일 값이다.\n",
    "        weights = weights + alpha * error * dataMatrix[i]\n",
    "    return weights\n",
    "\n",
    "# dataArr, labelMat = loadDataSet()\n",
    "# weights = stocGradAscent0(array(dataArr), labelMat)\n",
    "# print('확률 기울기 상승을 통한 로지스틱 회귀 최적선')\n",
    "# plotBestFit(weights)"
   ]
  },
  {
   "cell_type": "code",
   "execution_count": 11,
   "metadata": {
    "collapsed": false
   },
   "outputs": [
    {
     "name": "stdout",
     "output_type": "stream",
     "text": [
      "확률 기울기 상승을 통한 로지스틱 회귀 최적선\n"
     ]
    },
    {
     "data": {
      "image/png": "[encoded data removed]",
      "text/plain": [
       "<matplotlib.figure.Figure at 0x7d46eb8>"
      ]
     },
     "metadata": {},
     "output_type": "display_data"
    }
   ],
   "source": [
    "%matplotlib inline\n",
    "reload(logRegres)\n",
    "from numpy import *\n",
    "dataArr, labelMat = logRegres.loadDataSet()\n",
    "weights = logRegres.stocGradAscent0(array(dataArr), labelMat)\n",
    "print('확률 기울기 상승을 통한 로지스틱 회귀 최적선')\n",
    "logRegres.plotBestFit(weights)"
   ]
  },
  {
   "cell_type": "markdown",
   "metadata": {},
   "source": [
    "* 기울기 상승 코드는 데이터 집합을 500회 반복하여 얻은 결과이고 확률 기울기 상승보다 나은 결과를 보인다.\n",
    "* 하지만 최적화 알고리즘이 얼마나 잘 분류하는지 확인 하려면 이것이 수렴하는지 확인해야 한다. \n",
    "* 수렴은 고정된 값에 도달하는 매개변수로서, 그 값은 계속해서 변한다.\n",
    "* 확률 기울기 상승 알고리즘으로 데이터 집합을 200회 반복 실행하도록 수정했다.\n",
    "\n",
    "<img src=\"images/fig56.jpg\">\n",
    "\n",
    "* 그림 5.6은 반복 횟수에 따라 가중치가 어떻게 변하는지 보여준다.\n",
    "* X2로 표시한 가중치 2는 안정된 값에 도달하는데 50회 밖에 걸리지 않았지만 0과 1이라는 가중치 값의 간격이 너무 길다. 또한 큰 변동은 멈추었지만 주기적인 작은 변동이 있다.\n",
    "* 이러한 변동이 있다는 것은 확실하게 분류되지 않는 데이터가 있다는 것이며, 이러한 데이터가 가중치에 큰 변화를 주는 원인이다."
   ]
  },
  {
   "cell_type": "markdown",
   "metadata": {},
   "source": [
    "#### 리스팅 5.4 수정된 확률 기울기 상승 알고리즘\n",
    "리스팅 5.3 확률 기울기 상승에서 보인 문제를 해결하기 위한 코드"
   ]
  },
  {
   "cell_type": "code",
   "execution_count": 12,
   "metadata": {
    "collapsed": false
   },
   "outputs": [],
   "source": [
    "\"\"\"\n",
    "상승 Gradiant를 계산하는 함수 수정 - alpha의 값을 변경해주고, random한 data를 추출하여 weight를 계산\n",
    "input: dataMatrix, classLabels, numIter\n",
    "output: weights\n",
    "\"\"\"\n",
    "def stocGradAscent1(dataMatrix, classLabels, numIter=150):\n",
    "    m,n = shape(dataMatrix)\n",
    "    weights = ones(n)   #initialize to all ones\n",
    "    for j in range(numIter):\n",
    "        dataIndex = range(m)    #0~m-1까지의 index번호가 같은 배열을 생성(할당)\n",
    "        for i in range(m):\n",
    "            alpha = 4/(1.0+j+i)+0.01    #apha decreases with iteration, does not \n",
    "            #알고리즘이 반복될 때 마다 alpha 값 변경 - 높은 빈도의 진동을 개선(반복할 때 마다 alpha값 작아짐)\n",
    "            #일정한 간격(0.01)이 있기 때문에 절대로 0에 도달하지 못함(시간에 따라 변화하는 문제에 대응하기 위해) \n",
    "            randIndex = int(random.uniform(0,len(dataIndex)))#go to 0 because of the constant\n",
    "            #동일한 data를 두번 접근하지 않게 하기 위해 uniform하게 생성            \n",
    "            h = sigmoid(sum(dataMatrix[randIndex]*weights))\n",
    "            error = classLabels[randIndex] - h\n",
    "            weights = weights + alpha * error * dataMatrix[randIndex]\n",
    "            del(dataIndex[randIndex])    #할당된 배열을 해제\n",
    "    return weights\n",
    "\n",
    "# dataArr, labelMat = loadDataSet()\n",
    "# weights = stocGradAscent1(array(dataArr), labelMat)\n",
    "# plotBestFit(weights)"
   ]
  },
  {
   "cell_type": "code",
   "execution_count": 13,
   "metadata": {
    "collapsed": false,
    "scrolled": true
   },
   "outputs": [
    {
     "data": {
      "image/png": "[encoded data removed]",
      "text/plain": [
       "<matplotlib.figure.Figure at 0x740e2b0>"
      ]
     },
     "metadata": {},
     "output_type": "display_data"
    }
   ],
   "source": [
    "%matplotlib inline\n",
    "reload(logRegres)\n",
    "dataArr, labelMat = logRegres.loadDataSet()\n",
    "weights = logRegres.stocGradAscent1(array(dataArr), labelMat)\n",
    "logRegres.plotBestFit(weights)"
   ]
  },
  {
   "cell_type": "code",
   "execution_count": 14,
   "metadata": {
    "collapsed": false,
    "scrolled": false
   },
   "outputs": [
    {
     "data": {
      "image/png": "[encoded data removed]",
      "text/plain": [
       "<matplotlib.figure.Figure at 0x8224fd0>"
      ]
     },
     "metadata": {},
     "output_type": "display_data"
    }
   ],
   "source": [
    "#numIter = 500\n",
    "weights = logRegres.stocGradAscent1(array(dataArr), labelMat, 500)\n",
    "logRegres.plotBestFit(weights)"
   ]
  },
  {
   "cell_type": "markdown",
   "metadata": {},
   "source": [
    "<img src=\"images/fig57.jpg\">\n",
    "\n",
    "* 그림 5.7에서는 개선된 알고리즘의 가중치 변화를 보여준다.\n",
    "* 그림 5.7에는 그림 5.6에서 처럼 규칙적인 운동이 보이지 않는데, 임의의 벡터 선택하는 알고리즘 때문이다.\n",
    "* 그림 5.6보다 그림 5.7이 가로 축과 더 많이 닮았다. 이것은 더 빠르게 가충치들이 수렴한다는 것이다."
   ]
  },
  {
   "cell_type": "markdown",
   "metadata": {},
   "source": [
    "## 5.3 예제: 말의 배앓이 치사율 평가하기\n",
    "* 배앓이를 하는 말이 살 것인지 죽을 것인지 예측하기 위해 로지스틱 회귀를 사용한다.\n",
    "* 데이터는 속성이 28개인 368개의 사례로 되어 있다.\n",
    "* 말의 배앓이(horse colic)라는 용어는 말의 위장 통증을 설명하는 말이다. 통증은 위장에 문제가 있는지 없는지를 나타낸다.\n",
    "* 데이터 집합은 배앓이 전문 병원에서 말의 증상을 확인하는 측정 항목들로 구성되어 있다.\n",
    "* 측정 항목 중 일부는 말의 통증 정도처럼 주관적이며 몇몇 항목은 잘못 측정되었다. 또한 값의 30%가 누락되어 있다.\n",
    "\n",
    "### 예제: 말의 배앓이 치사율 평가를 위해 로지스틱 회귀 사용하기\n",
    "1. 수집: 제공된 텍스트 파일\n",
    "2. 준비: 파이썬에서 텍스트 파일을 구문 분석하고 누락된 값을 채운다.\n",
    "3. 분석: 시각적으로 데이터를 검사한다.\n",
    "4. 훈련: 가장 좋은 계수를 찾기 위해 최적화 알고리즘을 사용한다.\n",
    "5. 검사: 성공적인 측정을 위해 오류율을 확인하게 된다. 오류율에 따라 훈련 단계로 되돌아가게 하는데, 이는 반복 횟수와 단계의 크기를 조절하여 더 좋은 회귀 계수 값을 찾도록 하기 위함이다.\n",
    "6. 사용: 말의 증상을 수집하기 위해 간단한 커맨드라인(command-line) 프로그램을 구축한다. 그리고 어렵지 않게 생사를 진단한다."
   ]
  },
  {
   "cell_type": "markdown",
   "metadata": {},
   "source": [
    "### 5.3.1 준비: 데이터에서 누락된 값 다루기\n",
    "누락된 데이터 채우기 위한 선택 사항은 다음과 같다.\n",
    "* 사용 가능한 모든 데이터에서 속성의 평균값을 사용한다.\n",
    "* 알려지지 않은 값은 -1과 같은 특별한 값으로 채운다.\n",
    "* 사례를 무시한다.\n",
    "* 유사한 아이템들로부터의 평균값을 사용한다.\n",
    "* 값을 예측하기 위해 다른 기계 학습 알고리즘을 사용한다.\n",
    "\n",
    "본 예제에서 전처리는 다음과 같이 하였다.\n",
    "* 수집된 데이터 집합의 알 수 없는 모든 값을 0으로 대체한다 (Numpy 배열은 누락 값을 처리 할 수 없음).\n",
    "* 검사 데이터의 분류 항목 표시 누락은 무시한다 (kNN 등의 일부 알고리즘에서는 사용 불가).\n",
    "* 본래 데이터와 전처리된 데이터를 비교하고 싶다면 ( http://archive.ics.uci.edu/ml/datasets/Horse+Colic )에서 볼 수 있다."
   ]
  },
  {
   "cell_type": "markdown",
   "metadata": {},
   "source": [
    "### 5.3.2 검사: 로지스틱 회귀로 분류하기\n",
    "시그모이드 함수가 0.5보다 크면 분류는 1이고, 그렇지 않으면 0이다."
   ]
  },
  {
   "cell_type": "markdown",
   "metadata": {},
   "source": [
    "#### 리스팅 5.5 로지스틱 회귀 분류 함수"
   ]
  },
  {
   "cell_type": "code",
   "execution_count": 16,
   "metadata": {
    "collapsed": false
   },
   "outputs": [],
   "source": [
    "\"\"\"\n",
    "가중치와 입력 벡터를 가지고 시그모이드를 계산하는 함수\n",
    "input: inX, weights\n",
    "output: if 시그모이드 값 > 0.5: 1을 반환, else: 0을 반환\n",
    "\"\"\"\n",
    "def classifyVector(inX, weights):\n",
    "    prob = sigmoid(sum(inX*weights))    #가중치와 입력 벡터를 가지고 시그모이드를 계산\n",
    "    if prob > 0.5: return 1.0\n",
    "    else: return 0.0\n",
    "\n",
    "\"\"\"\n",
    "검사집합과 훈련집합을 열어 데이터를 제대로 된 형식으로 만들어주는 함수\n",
    "output: errorRate\n",
    "\"\"\"\n",
    "def colicTest():\n",
    "    frTrain = open('data/horseColicTraining.txt'); frTest = open('data/horseColicTest.txt')\n",
    "    trainingSet = []; trainingLabels = []     #list type으로 trainingSet과 trainingLabels 변수를 생성\n",
    "    for line in frTrain.readlines():\n",
    "        currLine = line.strip().split('\\t')\n",
    "        lineArr =[]\n",
    "        for i in range(21):\n",
    "            lineArr.append(float(currLine[i]))\n",
    "        trainingSet.append(lineArr)\n",
    "        trainingLabels.append(float(currLine[21]))    #마지막 칼럼에 분류 항목을 포함시킴\n",
    "    trainWeights = stocGradAscent1(array(trainingSet), trainingLabels, 1000)    #stocGradAscent1 함수를 사용하여 계산\n",
    "    \n",
    "    #검사 집합을 불러오고 오류율을 계산 \n",
    "    errorCount = 0; numTestVec = 0.0\n",
    "    for line in frTest.readlines():\n",
    "        numTestVec += 1.0\n",
    "        currLine = line.strip().split('\\t')\n",
    "        lineArr =[]\n",
    "        for i in range(21):\n",
    "            lineArr.append(float(currLine[i]))\n",
    "        if int(classifyVector(array(lineArr), trainWeights))!= int(currLine[21]):\n",
    "            errorCount += 1\n",
    "    errorRate = (float(errorCount)/numTestVec)\n",
    "    print \"the error rate of this test is: %f\" % errorRate\n",
    "    return errorRate\n",
    "\n",
    "\"\"\"\n",
    "colicTest() 함수를 10번 실행하여 평균을 계산하는 함수\n",
    "output: 10번 수행 시의 평균 에러율을 반환\n",
    "\"\"\"\n",
    "def multiTest():\n",
    "    numTests = 10; errorSum=0.0\n",
    "    for k in range(numTests):\n",
    "        errorSum += colicTest()\n",
    "    print \"after %d iterations the average error rate is: %f\" % (numTests, errorSum/float(numTests))\n",
    "    \n",
    "# multiTest()"
   ]
  },
  {
   "cell_type": "code",
   "execution_count": 18,
   "metadata": {
    "collapsed": false
   },
   "outputs": [
    {
     "name": "stdout",
     "output_type": "stream",
     "text": [
      "the error rate of this test is: 0.343284\n",
      "the error rate of this test is: 0.432836\n",
      "the error rate of this test is: 0.373134\n",
      "the error rate of this test is: 0.358209\n",
      "the error rate of this test is: 0.432836\n",
      "the error rate of this test is: 0.313433\n",
      "the error rate of this test is: 0.268657\n",
      "the error rate of this test is: 0.417910\n",
      "the error rate of this test is: 0.373134\n",
      "the error rate of this test is: 0.328358\n",
      "after 10 iterations the average error rate is: 0.364179\n"
     ]
    }
   ],
   "source": [
    "reload(logRegres)\n",
    "logRegres.multiTest()"
   ]
  },
  {
   "cell_type": "markdown",
   "metadata": {},
   "source": [
    "## 예제: SPECTF Heart Data Set \n",
    "* 단일광자 단층촬영 (single photon emission computed tomography)에 대한 것으로 결과는 normal과 abnormal로 분류된다.\n",
    "* 데이터에 대한 정보는 본 사이트 ( http://archive.ics.uci.edu/ml/datasets/SPECTF+Heart )에서 얻을 수 있다."
   ]
  },
  {
   "cell_type": "markdown",
   "metadata": {},
   "source": [
    "## Reference\n",
    "\n",
    "#### 로지스틱 회귀분석(Logistic regression)\n",
    "* http://sqlmvp.kr/140189702419\n",
    "\n",
    "#### LaTeX\n",
    "* https://en.wikibooks.org/wiki/LaTeX/Mathematics\n",
    "* http://nbviewer.jupyter.org/github/twistedhardware/mltutorial/blob/master/notebooks/jupyter/2.%20Markdown%20%26%20LaTeX.ipynb\n",
    "\n",
    "#### 측정방법에 의한 척도의 구성 (명목척도, 서열척도, 등간척도, 비용척도)\n",
    "* http://blog.naver.com/jmjm101/220473272577\n",
    "\n",
    "#### BIAS-VARIANCE TRADEOFF\n",
    "* http://bywords.tistory.com/165"
   ]
  }
 ],
 "metadata": {
  "kernelspec": {
   "display_name": "Python 2",
   "language": "python",
   "name": "python2"
  },
  "language_info": {
   "codemirror_mode": {
    "name": "ipython",
    "version": 2
   },
   "file_extension": ".py",
   "mimetype": "text/x-python",
   "name": "python",
   "nbconvert_exporter": "python",
   "pygments_lexer": "ipython2",
   "version": "2.7.11"
  }
 },
 "nbformat": 4,
 "nbformat_minor": 0
}
